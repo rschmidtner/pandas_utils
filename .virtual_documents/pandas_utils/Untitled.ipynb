import pandas as pd
import pandas_utils
from pandas_utils import groupcount_differences_between_rows


df1 = pd.DataFrame([[1, 2], [3, 4]])
df2 = pd.DataFrame([[1, 2], [3, 5]])

groupcount = groupcount_differences_between_rows(df1, df2)
groupcount
